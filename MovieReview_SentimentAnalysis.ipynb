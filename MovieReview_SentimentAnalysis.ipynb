{
  "nbformat": 4,
  "nbformat_minor": 0,
  "metadata": {
    "colab": {
      "name": "MovieReview_SentimentAnalysis.ipynb",
      "provenance": [],
      "collapsed_sections": [],
      "mount_file_id": "1zCOPNPb-zvaHwEcXjXbfbn1fTWvAHFhv",
      "authorship_tag": "ABX9TyP4FAhQJ2MA8N3yVo9HlcET",
      "include_colab_link": true
    },
    "kernelspec": {
      "name": "python3",
      "display_name": "Python 3"
    }
  },
  "cells": [
    {
      "cell_type": "markdown",
      "metadata": {
        "id": "view-in-github",
        "colab_type": "text"
      },
      "source": [
        "<a href=\"https://colab.research.google.com/github/smriti-nayak/Basic-Sentiment-Analysis/blob/master/MovieReview_SentimentAnalysis.ipynb\" target=\"_parent\"><img src=\"https://colab.research.google.com/assets/colab-badge.svg\" alt=\"Open In Colab\"/></a>"
      ]
    },
    {
      "cell_type": "markdown",
      "metadata": {
        "id": "IIuUrKuLUW_q",
        "colab_type": "text"
      },
      "source": [
        "### 1. Loading and Exploring the Dataset"
      ]
    },
    {
      "cell_type": "code",
      "metadata": {
        "id": "7yWeOhoRU2uI",
        "colab_type": "code",
        "colab": {
          "base_uri": "https://localhost:8080/",
          "height": 34
        },
        "outputId": "a4d22112-1e4e-4a8a-83d3-eeef0384867a"
      },
      "source": [
        "import pandas as pd\n",
        "data = pd.read_csv('/content/drive/My Drive/Datasets/IMDB Dataset.csv')\n",
        "data['sentiment'].unique()"
      ],
      "execution_count": null,
      "outputs": [
        {
          "output_type": "execute_result",
          "data": {
            "text/plain": [
              "array(['positive', 'negative'], dtype=object)"
            ]
          },
          "metadata": {
            "tags": []
          },
          "execution_count": 2
        }
      ]
    },
    {
      "cell_type": "code",
      "metadata": {
        "id": "rT1zwNaLasRD",
        "colab_type": "code",
        "colab": {
          "base_uri": "https://localhost:8080/",
          "height": 34
        },
        "outputId": "e82c7f12-75a3-4e07-86d2-065b89f9a988"
      },
      "source": [
        "# Import label encoder\n",
        "from sklearn import preprocessing\n",
        "\n",
        "# Object to understand word labels\n",
        "label_encoder = preprocessing.LabelEncoder()\n",
        "\n",
        "# Encode labels in column 'sentiment'\n",
        "data['sentiment'] = label_encoder.fit_transform(data['sentiment'])\n",
        "data['sentiment'].unique()"
      ],
      "execution_count": null,
      "outputs": [
        {
          "output_type": "execute_result",
          "data": {
            "text/plain": [
              "array([1, 0])"
            ]
          },
          "metadata": {
            "tags": []
          },
          "execution_count": 3
        }
      ]
    },
    {
      "cell_type": "code",
      "metadata": {
        "id": "BWVxWugEbsIp",
        "colab_type": "code",
        "colab": {
          "base_uri": "https://localhost:8080/",
          "height": 195
        },
        "outputId": "f87f361d-9908-4a90-fe65-f04c78b351c8"
      },
      "source": [
        "data.head(5)"
      ],
      "execution_count": null,
      "outputs": [
        {
          "output_type": "execute_result",
          "data": {
            "text/html": [
              "<div>\n",
              "<style scoped>\n",
              "    .dataframe tbody tr th:only-of-type {\n",
              "        vertical-align: middle;\n",
              "    }\n",
              "\n",
              "    .dataframe tbody tr th {\n",
              "        vertical-align: top;\n",
              "    }\n",
              "\n",
              "    .dataframe thead th {\n",
              "        text-align: right;\n",
              "    }\n",
              "</style>\n",
              "<table border=\"1\" class=\"dataframe\">\n",
              "  <thead>\n",
              "    <tr style=\"text-align: right;\">\n",
              "      <th></th>\n",
              "      <th>review</th>\n",
              "      <th>sentiment</th>\n",
              "    </tr>\n",
              "  </thead>\n",
              "  <tbody>\n",
              "    <tr>\n",
              "      <th>0</th>\n",
              "      <td>One of the other reviewers has mentioned that ...</td>\n",
              "      <td>1</td>\n",
              "    </tr>\n",
              "    <tr>\n",
              "      <th>1</th>\n",
              "      <td>A wonderful little production. &lt;br /&gt;&lt;br /&gt;The...</td>\n",
              "      <td>1</td>\n",
              "    </tr>\n",
              "    <tr>\n",
              "      <th>2</th>\n",
              "      <td>I thought this was a wonderful way to spend ti...</td>\n",
              "      <td>1</td>\n",
              "    </tr>\n",
              "    <tr>\n",
              "      <th>3</th>\n",
              "      <td>Basically there's a family where a little boy ...</td>\n",
              "      <td>0</td>\n",
              "    </tr>\n",
              "    <tr>\n",
              "      <th>4</th>\n",
              "      <td>Petter Mattei's \"Love in the Time of Money\" is...</td>\n",
              "      <td>1</td>\n",
              "    </tr>\n",
              "  </tbody>\n",
              "</table>\n",
              "</div>"
            ],
            "text/plain": [
              "                                              review  sentiment\n",
              "0  One of the other reviewers has mentioned that ...          1\n",
              "1  A wonderful little production. <br /><br />The...          1\n",
              "2  I thought this was a wonderful way to spend ti...          1\n",
              "3  Basically there's a family where a little boy ...          0\n",
              "4  Petter Mattei's \"Love in the Time of Money\" is...          1"
            ]
          },
          "metadata": {
            "tags": []
          },
          "execution_count": 4
        }
      ]
    },
    {
      "cell_type": "code",
      "metadata": {
        "id": "vlGG6l6hcxPb",
        "colab_type": "code",
        "colab": {
          "base_uri": "https://localhost:8080/",
          "height": 370
        },
        "outputId": "fb7ba6eb-d101-4ab3-88dd-3fe39c478a39"
      },
      "source": [
        "data.review[:20]"
      ],
      "execution_count": null,
      "outputs": [
        {
          "output_type": "execute_result",
          "data": {
            "text/plain": [
              "0     One of the other reviewers has mentioned that ...\n",
              "1     A wonderful little production. <br /><br />The...\n",
              "2     I thought this was a wonderful way to spend ti...\n",
              "3     Basically there's a family where a little boy ...\n",
              "4     Petter Mattei's \"Love in the Time of Money\" is...\n",
              "5     Probably my all-time favorite movie, a story o...\n",
              "6     I sure would like to see a resurrection of a u...\n",
              "7     This show was an amazing, fresh & innovative i...\n",
              "8     Encouraged by the positive comments about this...\n",
              "9     If you like original gut wrenching laughter yo...\n",
              "10    Phil the Alien is one of those quirky films wh...\n",
              "11    I saw this movie when I was about 12 when it c...\n",
              "12    So im not a big fan of Boll's work but then ag...\n",
              "13    The cast played Shakespeare.<br /><br />Shakes...\n",
              "14    This a fantastic movie of three prisoners who ...\n",
              "15    Kind of drawn in by the erotic scenes, only to...\n",
              "16    Some films just simply should not be remade. T...\n",
              "17    This movie made it into one of my top 10 most ...\n",
              "18    I remember this film,it was the first film i h...\n",
              "19    An awful film! It must have been up against so...\n",
              "Name: review, dtype: object"
            ]
          },
          "metadata": {
            "tags": []
          },
          "execution_count": 5
        }
      ]
    },
    {
      "cell_type": "code",
      "metadata": {
        "id": "Dt1CrMxFgBHd",
        "colab_type": "code",
        "colab": {
          "base_uri": "https://localhost:8080/",
          "height": 54
        },
        "outputId": "38667a41-f36c-4775-846c-998f625cfd0a"
      },
      "source": [
        "print(data.review[10])"
      ],
      "execution_count": null,
      "outputs": [
        {
          "output_type": "stream",
          "text": [
            "Phil the Alien is one of those quirky films where the humour is based around the oddness of everything rather than actual punchlines.<br /><br />At first it was very odd and pretty funny but as the movie progressed I didn't find the jokes or oddness funny anymore.<br /><br />Its a low budget film (thats never a problem in itself), there were some pretty interesting characters, but eventually I just lost interest.<br /><br />I imagine this film would appeal to a stoner who is currently partaking.<br /><br />For something similar but better try \"Brother from another planet\"\n"
          ],
          "name": "stdout"
        }
      ]
    },
    {
      "cell_type": "markdown",
      "metadata": {
        "id": "ucdOebUfiRYl",
        "colab_type": "text"
      },
      "source": [
        "### 2. Preprocessing the Data\n",
        "\n",
        "*   Lowercasing\n",
        "*   Removal of non-alphabetical characters\n",
        "*   Tokenization\n",
        "*   Stop-word removal\n",
        "*   Stemming"
      ]
    },
    {
      "cell_type": "code",
      "metadata": {
        "id": "IkO6wJ0qjGY5",
        "colab_type": "code",
        "colab": {
          "base_uri": "https://localhost:8080/",
          "height": 154
        },
        "outputId": "0fc5db83-9374-4071-f8d4-567d66874900"
      },
      "source": [
        "import nltk\n",
        "nltk.download('stopwords')\n",
        "nltk.download('punkt')\n",
        "nltk.download('wordnet')\n",
        "import re\n",
        "import string\n",
        "\n",
        "from nltk.tokenize import word_tokenize\n",
        "from nltk.corpus import stopwords\n",
        "from nltk.stem import PorterStemmer\n",
        "\n",
        "stop = stopwords.words('english')\n",
        "punc = string.punctuation\n",
        "print(stop)"
      ],
      "execution_count": null,
      "outputs": [
        {
          "output_type": "stream",
          "text": [
            "[nltk_data] Downloading package stopwords to /root/nltk_data...\n",
            "[nltk_data]   Unzipping corpora/stopwords.zip.\n",
            "[nltk_data] Downloading package punkt to /root/nltk_data...\n",
            "[nltk_data]   Unzipping tokenizers/punkt.zip.\n",
            "[nltk_data] Downloading package wordnet to /root/nltk_data...\n",
            "[nltk_data]   Unzipping corpora/wordnet.zip.\n",
            "['i', 'me', 'my', 'myself', 'we', 'our', 'ours', 'ourselves', 'you', \"you're\", \"you've\", \"you'll\", \"you'd\", 'your', 'yours', 'yourself', 'yourselves', 'he', 'him', 'his', 'himself', 'she', \"she's\", 'her', 'hers', 'herself', 'it', \"it's\", 'its', 'itself', 'they', 'them', 'their', 'theirs', 'themselves', 'what', 'which', 'who', 'whom', 'this', 'that', \"that'll\", 'these', 'those', 'am', 'is', 'are', 'was', 'were', 'be', 'been', 'being', 'have', 'has', 'had', 'having', 'do', 'does', 'did', 'doing', 'a', 'an', 'the', 'and', 'but', 'if', 'or', 'because', 'as', 'until', 'while', 'of', 'at', 'by', 'for', 'with', 'about', 'against', 'between', 'into', 'through', 'during', 'before', 'after', 'above', 'below', 'to', 'from', 'up', 'down', 'in', 'out', 'on', 'off', 'over', 'under', 'again', 'further', 'then', 'once', 'here', 'there', 'when', 'where', 'why', 'how', 'all', 'any', 'both', 'each', 'few', 'more', 'most', 'other', 'some', 'such', 'no', 'nor', 'not', 'only', 'own', 'same', 'so', 'than', 'too', 'very', 's', 't', 'can', 'will', 'just', 'don', \"don't\", 'should', \"should've\", 'now', 'd', 'll', 'm', 'o', 're', 've', 'y', 'ain', 'aren', \"aren't\", 'couldn', \"couldn't\", 'didn', \"didn't\", 'doesn', \"doesn't\", 'hadn', \"hadn't\", 'hasn', \"hasn't\", 'haven', \"haven't\", 'isn', \"isn't\", 'ma', 'mightn', \"mightn't\", 'mustn', \"mustn't\", 'needn', \"needn't\", 'shan', \"shan't\", 'shouldn', \"shouldn't\", 'wasn', \"wasn't\", 'weren', \"weren't\", 'won', \"won't\", 'wouldn', \"wouldn't\"]\n"
          ],
          "name": "stdout"
        }
      ]
    },
    {
      "cell_type": "code",
      "metadata": {
        "id": "AQLo6BWAl_5n",
        "colab_type": "code",
        "colab": {
          "base_uri": "https://localhost:8080/",
          "height": 54
        },
        "outputId": "e79c6c75-34c5-4fa2-95b5-20eeb6ab4c5e"
      },
      "source": [
        "# Lowercasing\n",
        "data['review'] = data['review'].str.lower()\n",
        "\n",
        "print(data.review[10])"
      ],
      "execution_count": null,
      "outputs": [
        {
          "output_type": "stream",
          "text": [
            "phil the alien is one of those quirky films where the humour is based around the oddness of everything rather than actual punchlines.<br /><br />at first it was very odd and pretty funny but as the movie progressed i didn't find the jokes or oddness funny anymore.<br /><br />its a low budget film (thats never a problem in itself), there were some pretty interesting characters, but eventually i just lost interest.<br /><br />i imagine this film would appeal to a stoner who is currently partaking.<br /><br />for something similar but better try \"brother from another planet\"\n"
          ],
          "name": "stdout"
        }
      ]
    },
    {
      "cell_type": "code",
      "metadata": {
        "id": "RGbFjII1mUu9",
        "colab_type": "code",
        "colab": {
          "base_uri": "https://localhost:8080/",
          "height": 54
        },
        "outputId": "2f3393d0-b40d-401b-c3fd-a83dce315f7d"
      },
      "source": [
        "# Removing non-alphabetic characters\n",
        "data['review'] = data['review'].str.replace('[^a-z\\s]', '')\n",
        "\n",
        "print(data.review[10])"
      ],
      "execution_count": null,
      "outputs": [
        {
          "output_type": "stream",
          "text": [
            "phil the alien is one of those quirky films where the humour is based around the oddness of everything rather than actual punchlinesbr br at first it was very odd and pretty funny but as the movie progressed i didnt find the jokes or oddness funny anymorebr br its a low budget film thats never a problem in itself there were some pretty interesting characters but eventually i just lost interestbr br i imagine this film would appeal to a stoner who is currently partakingbr br for something similar but better try brother from another planet\n"
          ],
          "name": "stdout"
        }
      ]
    },
    {
      "cell_type": "code",
      "metadata": {
        "id": "lV1c2M-2px58",
        "colab_type": "code",
        "colab": {
          "base_uri": "https://localhost:8080/",
          "height": 54
        },
        "outputId": "64470568-62a0-42cf-bf98-63225eb0f6f4"
      },
      "source": [
        "# Tokennization\n",
        "data['review'] = data['review'].apply(word_tokenize)\n",
        "\n",
        "print(data.review[10])"
      ],
      "execution_count": null,
      "outputs": [
        {
          "output_type": "stream",
          "text": [
            "['phil', 'the', 'alien', 'is', 'one', 'of', 'those', 'quirky', 'films', 'where', 'the', 'humour', 'is', 'based', 'around', 'the', 'oddness', 'of', 'everything', 'rather', 'than', 'actual', 'punchlinesbr', 'br', 'at', 'first', 'it', 'was', 'very', 'odd', 'and', 'pretty', 'funny', 'but', 'as', 'the', 'movie', 'progressed', 'i', 'didnt', 'find', 'the', 'jokes', 'or', 'oddness', 'funny', 'anymorebr', 'br', 'its', 'a', 'low', 'budget', 'film', 'thats', 'never', 'a', 'problem', 'in', 'itself', 'there', 'were', 'some', 'pretty', 'interesting', 'characters', 'but', 'eventually', 'i', 'just', 'lost', 'interestbr', 'br', 'i', 'imagine', 'this', 'film', 'would', 'appeal', 'to', 'a', 'stoner', 'who', 'is', 'currently', 'partakingbr', 'br', 'for', 'something', 'similar', 'but', 'better', 'try', 'brother', 'from', 'another', 'planet']\n"
          ],
          "name": "stdout"
        }
      ]
    },
    {
      "cell_type": "code",
      "metadata": {
        "id": "KCfv3k9gqwiR",
        "colab_type": "code",
        "colab": {}
      },
      "source": [
        "# Removing stopwords and Stemming\n",
        "\n",
        "stemmer = PorterStemmer()\n",
        "\n",
        "def clean(df):\n",
        "  clean_tokens = []\n",
        "  for word in df:\n",
        "    if(word not in stop and word not in punc):\n",
        "      clean_tokens.append(stemmer.stem(word))\n",
        "  return clean_tokens\n",
        "\n",
        "data['review'] = data['review'].apply(clean)"
      ],
      "execution_count": null,
      "outputs": []
    },
    {
      "cell_type": "code",
      "metadata": {
        "id": "QolMvi85rb10",
        "colab_type": "code",
        "colab": {
          "base_uri": "https://localhost:8080/",
          "height": 54
        },
        "outputId": "2b494f65-cabd-4701-dfe2-8896b2b09a25"
      },
      "source": [
        "print(data.review[10])"
      ],
      "execution_count": null,
      "outputs": [
        {
          "output_type": "stream",
          "text": [
            "['phil', 'alien', 'one', 'quirki', 'film', 'humour', 'base', 'around', 'odd', 'everyth', 'rather', 'actual', 'punchlinesbr', 'br', 'first', 'odd', 'pretti', 'funni', 'movi', 'progress', 'didnt', 'find', 'joke', 'odd', 'funni', 'anymorebr', 'br', 'low', 'budget', 'film', 'that', 'never', 'problem', 'pretti', 'interest', 'charact', 'eventu', 'lost', 'interestbr', 'br', 'imagin', 'film', 'would', 'appeal', 'stoner', 'current', 'partakingbr', 'br', 'someth', 'similar', 'better', 'tri', 'brother', 'anoth', 'planet']\n"
          ],
          "name": "stdout"
        }
      ]
    },
    {
      "cell_type": "code",
      "metadata": {
        "id": "aeBJAZ_un3v7",
        "colab_type": "code",
        "colab": {
          "base_uri": "https://localhost:8080/",
          "height": 343
        },
        "outputId": "49b497b5-6ae5-4c4c-fba2-8cfc5b9a8035"
      },
      "source": [
        "data.head(10)"
      ],
      "execution_count": null,
      "outputs": [
        {
          "output_type": "execute_result",
          "data": {
            "text/html": [
              "<div>\n",
              "<style scoped>\n",
              "    .dataframe tbody tr th:only-of-type {\n",
              "        vertical-align: middle;\n",
              "    }\n",
              "\n",
              "    .dataframe tbody tr th {\n",
              "        vertical-align: top;\n",
              "    }\n",
              "\n",
              "    .dataframe thead th {\n",
              "        text-align: right;\n",
              "    }\n",
              "</style>\n",
              "<table border=\"1\" class=\"dataframe\">\n",
              "  <thead>\n",
              "    <tr style=\"text-align: right;\">\n",
              "      <th></th>\n",
              "      <th>review</th>\n",
              "      <th>sentiment</th>\n",
              "    </tr>\n",
              "  </thead>\n",
              "  <tbody>\n",
              "    <tr>\n",
              "      <th>0</th>\n",
              "      <td>[one, review, mention, watch, oz, episod, youl...</td>\n",
              "      <td>1</td>\n",
              "    </tr>\n",
              "    <tr>\n",
              "      <th>1</th>\n",
              "      <td>[wonder, littl, product, br, br, film, techniq...</td>\n",
              "      <td>1</td>\n",
              "    </tr>\n",
              "    <tr>\n",
              "      <th>2</th>\n",
              "      <td>[thought, wonder, way, spend, time, hot, summe...</td>\n",
              "      <td>1</td>\n",
              "    </tr>\n",
              "    <tr>\n",
              "      <th>3</th>\n",
              "      <td>[basic, there, famili, littl, boy, jake, think...</td>\n",
              "      <td>0</td>\n",
              "    </tr>\n",
              "    <tr>\n",
              "      <th>4</th>\n",
              "      <td>[petter, mattei, love, time, money, visual, st...</td>\n",
              "      <td>1</td>\n",
              "    </tr>\n",
              "    <tr>\n",
              "      <th>5</th>\n",
              "      <td>[probabl, alltim, favorit, movi, stori, selfle...</td>\n",
              "      <td>1</td>\n",
              "    </tr>\n",
              "    <tr>\n",
              "      <th>6</th>\n",
              "      <td>[sure, would, like, see, resurrect, date, seah...</td>\n",
              "      <td>1</td>\n",
              "    </tr>\n",
              "    <tr>\n",
              "      <th>7</th>\n",
              "      <td>[show, amaz, fresh, innov, idea, first, air, f...</td>\n",
              "      <td>0</td>\n",
              "    </tr>\n",
              "    <tr>\n",
              "      <th>8</th>\n",
              "      <td>[encourag, posit, comment, film, look, forward...</td>\n",
              "      <td>0</td>\n",
              "    </tr>\n",
              "    <tr>\n",
              "      <th>9</th>\n",
              "      <td>[like, origin, gut, wrench, laughter, like, mo...</td>\n",
              "      <td>1</td>\n",
              "    </tr>\n",
              "  </tbody>\n",
              "</table>\n",
              "</div>"
            ],
            "text/plain": [
              "                                              review  sentiment\n",
              "0  [one, review, mention, watch, oz, episod, youl...          1\n",
              "1  [wonder, littl, product, br, br, film, techniq...          1\n",
              "2  [thought, wonder, way, spend, time, hot, summe...          1\n",
              "3  [basic, there, famili, littl, boy, jake, think...          0\n",
              "4  [petter, mattei, love, time, money, visual, st...          1\n",
              "5  [probabl, alltim, favorit, movi, stori, selfle...          1\n",
              "6  [sure, would, like, see, resurrect, date, seah...          1\n",
              "7  [show, amaz, fresh, innov, idea, first, air, f...          0\n",
              "8  [encourag, posit, comment, film, look, forward...          0\n",
              "9  [like, origin, gut, wrench, laughter, like, mo...          1"
            ]
          },
          "metadata": {
            "tags": []
          },
          "execution_count": 13
        }
      ]
    },
    {
      "cell_type": "markdown",
      "metadata": {
        "id": "fJFFt--4oDJ_",
        "colab_type": "text"
      },
      "source": [
        "### 3. Analysis of Data (Word Frequency Distribution Analysis)"
      ]
    },
    {
      "cell_type": "code",
      "metadata": {
        "id": "_VuZc5yGoR30",
        "colab_type": "code",
        "colab": {}
      },
      "source": [
        "from nltk.probability import FreqDist\n",
        "\n",
        "fdist = FreqDist()\n",
        "for doc in data.review:\n",
        "  for word in doc:\n",
        "    fdist[word] +=1"
      ],
      "execution_count": null,
      "outputs": []
    },
    {
      "cell_type": "code",
      "metadata": {
        "id": "xEinUbN0oqgn",
        "colab_type": "code",
        "colab": {
          "base_uri": "https://localhost:8080/",
          "height": 54
        },
        "outputId": "702f0d62-938e-4da5-b1e0-733c5893aada"
      },
      "source": [
        "vocab = fdist.most_common(50)\n",
        "print(vocab)"
      ],
      "execution_count": null,
      "outputs": [
        {
          "output_type": "stream",
          "text": [
            "[('br', 114890), ('movi', 98983), ('film', 92081), ('one', 53314), ('like', 43990), ('time', 29805), ('good', 28988), ('make', 28613), ('get', 27750), ('see', 27693), ('charact', 27602), ('watch', 27281), ('even', 25046), ('stori', 24274), ('would', 24024), ('realli', 22952), ('scene', 20706), ('show', 19407), ('well', 19303), ('look', 19284), ('much', 18947), ('end', 18155), ('great', 18067), ('peopl', 18052), ('also', 17818), ('bad', 17785), ('go', 17723), ('love', 17651), ('think', 17343), ('first', 17160), ('play', 16999), ('dont', 16954), ('act', 16813), ('way', 16529), ('thing', 16119), ('made', 15417), ('could', 15155), ('know', 14884), ('say', 14787), ('seem', 14075), ('mani', 13413), ('work', 13147), ('want', 13117), ('plot', 13099), ('seen', 13098), ('two', 13030), ('actor', 13019), ('come', 12986), ('take', 12939), ('never', 12874)]\n"
          ],
          "name": "stdout"
        }
      ]
    },
    {
      "cell_type": "code",
      "metadata": {
        "id": "JBN0A3dnuR2X",
        "colab_type": "code",
        "colab": {
          "base_uri": "https://localhost:8080/",
          "height": 54
        },
        "outputId": "088b73e9-1593-4d13-f65c-16adae5d771d"
      },
      "source": [
        "# Storing the most common 50 words in a list\n",
        "\n",
        "lst = [tup[0] for tup in vocab]\n",
        "print(lst)"
      ],
      "execution_count": null,
      "outputs": [
        {
          "output_type": "stream",
          "text": [
            "['br', 'movi', 'film', 'one', 'like', 'time', 'good', 'make', 'get', 'see', 'charact', 'watch', 'even', 'stori', 'would', 'realli', 'scene', 'show', 'well', 'look', 'much', 'end', 'great', 'peopl', 'also', 'bad', 'go', 'love', 'think', 'first', 'play', 'dont', 'act', 'way', 'thing', 'made', 'could', 'know', 'say', 'seem', 'mani', 'work', 'want', 'plot', 'seen', 'two', 'actor', 'come', 'take', 'never']\n"
          ],
          "name": "stdout"
        }
      ]
    },
    {
      "cell_type": "code",
      "metadata": {
        "id": "yWCW7HTeujKQ",
        "colab_type": "code",
        "colab": {}
      },
      "source": [
        "with open('nlargest.txt', 'w') as f:\n",
        "  for item in lst:\n",
        "    f.write(\"%s\\n\" % item)"
      ],
      "execution_count": null,
      "outputs": []
    },
    {
      "cell_type": "markdown",
      "metadata": {
        "id": "z0YFDDShuz8s",
        "colab_type": "text"
      },
      "source": [
        "### 4. Feature Preparation"
      ]
    },
    {
      "cell_type": "code",
      "metadata": {
        "id": "PFDM93Cgu4l8",
        "colab_type": "code",
        "colab": {}
      },
      "source": [
        "from sklearn.feature_extraction.text import TfidfVectorizer, TfidfTransformer, CountVectorizer\n",
        "from sklearn.naive_bayes import MultinomialNB"
      ],
      "execution_count": null,
      "outputs": []
    },
    {
      "cell_type": "code",
      "metadata": {
        "id": "h-bXnpKsvPBz",
        "colab_type": "code",
        "colab": {
          "base_uri": "https://localhost:8080/",
          "height": 343
        },
        "outputId": "d50f8c54-6130-453f-ea83-c2d51109407d"
      },
      "source": [
        "#Preparing data to create TF-IDF features\n",
        "\n",
        "d = data.review\n",
        "merged = []\n",
        "for doc in d:\n",
        "  merged.append((' '.join(doc)))\n",
        "\n",
        "data.review = merged\n",
        "data.head(10)"
      ],
      "execution_count": null,
      "outputs": [
        {
          "output_type": "execute_result",
          "data": {
            "text/html": [
              "<div>\n",
              "<style scoped>\n",
              "    .dataframe tbody tr th:only-of-type {\n",
              "        vertical-align: middle;\n",
              "    }\n",
              "\n",
              "    .dataframe tbody tr th {\n",
              "        vertical-align: top;\n",
              "    }\n",
              "\n",
              "    .dataframe thead th {\n",
              "        text-align: right;\n",
              "    }\n",
              "</style>\n",
              "<table border=\"1\" class=\"dataframe\">\n",
              "  <thead>\n",
              "    <tr style=\"text-align: right;\">\n",
              "      <th></th>\n",
              "      <th>review</th>\n",
              "      <th>sentiment</th>\n",
              "    </tr>\n",
              "  </thead>\n",
              "  <tbody>\n",
              "    <tr>\n",
              "      <th>0</th>\n",
              "      <td>one review mention watch oz episod youll hook ...</td>\n",
              "      <td>1</td>\n",
              "    </tr>\n",
              "    <tr>\n",
              "      <th>1</th>\n",
              "      <td>wonder littl product br br film techniqu unass...</td>\n",
              "      <td>1</td>\n",
              "    </tr>\n",
              "    <tr>\n",
              "      <th>2</th>\n",
              "      <td>thought wonder way spend time hot summer weeke...</td>\n",
              "      <td>1</td>\n",
              "    </tr>\n",
              "    <tr>\n",
              "      <th>3</th>\n",
              "      <td>basic there famili littl boy jake think there ...</td>\n",
              "      <td>0</td>\n",
              "    </tr>\n",
              "    <tr>\n",
              "      <th>4</th>\n",
              "      <td>petter mattei love time money visual stun film...</td>\n",
              "      <td>1</td>\n",
              "    </tr>\n",
              "    <tr>\n",
              "      <th>5</th>\n",
              "      <td>probabl alltim favorit movi stori selfless sac...</td>\n",
              "      <td>1</td>\n",
              "    </tr>\n",
              "    <tr>\n",
              "      <th>6</th>\n",
              "      <td>sure would like see resurrect date seahunt ser...</td>\n",
              "      <td>1</td>\n",
              "    </tr>\n",
              "    <tr>\n",
              "      <th>7</th>\n",
              "      <td>show amaz fresh innov idea first air first yea...</td>\n",
              "      <td>0</td>\n",
              "    </tr>\n",
              "    <tr>\n",
              "      <th>8</th>\n",
              "      <td>encourag posit comment film look forward watch...</td>\n",
              "      <td>0</td>\n",
              "    </tr>\n",
              "    <tr>\n",
              "      <th>9</th>\n",
              "      <td>like origin gut wrench laughter like movi youn...</td>\n",
              "      <td>1</td>\n",
              "    </tr>\n",
              "  </tbody>\n",
              "</table>\n",
              "</div>"
            ],
            "text/plain": [
              "                                              review  sentiment\n",
              "0  one review mention watch oz episod youll hook ...          1\n",
              "1  wonder littl product br br film techniqu unass...          1\n",
              "2  thought wonder way spend time hot summer weeke...          1\n",
              "3  basic there famili littl boy jake think there ...          0\n",
              "4  petter mattei love time money visual stun film...          1\n",
              "5  probabl alltim favorit movi stori selfless sac...          1\n",
              "6  sure would like see resurrect date seahunt ser...          1\n",
              "7  show amaz fresh innov idea first air first yea...          0\n",
              "8  encourag posit comment film look forward watch...          0\n",
              "9  like origin gut wrench laughter like movi youn...          1"
            ]
          },
          "metadata": {
            "tags": []
          },
          "execution_count": 21
        }
      ]
    },
    {
      "cell_type": "code",
      "metadata": {
        "id": "mWd9kIbVxRoN",
        "colab_type": "code",
        "colab": {}
      },
      "source": [
        "# Create TFfidVectorizer object\n",
        "vectorizer = TfidfVectorizer(ngram_range=(1,2))\n",
        "\n",
        "# Generate matrix of word vectors\n",
        "tfidf_matrix = vectorizer.fit_transform(data.review)"
      ],
      "execution_count": null,
      "outputs": []
    },
    {
      "cell_type": "code",
      "metadata": {
        "id": "rA8ESsGnyC6t",
        "colab_type": "code",
        "colab": {}
      },
      "source": [
        "#print(tfidf_matrix.shape)\n",
        "#print(tfidf_matrix.toarray())"
      ],
      "execution_count": null,
      "outputs": []
    },
    {
      "cell_type": "markdown",
      "metadata": {
        "id": "bVMn4mYAR61T",
        "colab_type": "text"
      },
      "source": [
        "### 5. Training the DataSet\n",
        "The multinomial Naive Bayes classifier is suitable for classification with discrete features (e.g., word counts for text classification). The multinomial distribution normally requires integer feature counts. However, in practice, fractional counts such as tf-idf may also work."
      ]
    },
    {
      "cell_type": "code",
      "metadata": {
        "id": "HxK6p2riSDzy",
        "colab_type": "code",
        "colab": {}
      },
      "source": [
        "from sklearn.model_selection import train_test_split\n",
        "x_train, x_test, y_train, y_test = train_test_split(tfidf_matrix, data.sentiment, test_size=0.01, random_state=42)"
      ],
      "execution_count": null,
      "outputs": []
    },
    {
      "cell_type": "code",
      "metadata": {
        "id": "TWuM74eRSief",
        "colab_type": "code",
        "colab": {
          "base_uri": "https://localhost:8080/",
          "height": 34
        },
        "outputId": "2c5b1bbc-f976-4943-d902-5cdff86b6359"
      },
      "source": [
        "#print(x_train[0])\n",
        "print(x_train.shape)"
      ],
      "execution_count": null,
      "outputs": [
        {
          "output_type": "stream",
          "text": [
            "(49500, 2862811)\n"
          ],
          "name": "stdout"
        }
      ]
    },
    {
      "cell_type": "code",
      "metadata": {
        "id": "90IYU2k3Sv3m",
        "colab_type": "code",
        "colab": {
          "base_uri": "https://localhost:8080/",
          "height": 34
        },
        "outputId": "f2b2bb65-b341-48e5-bd81-0fc67456d3fb"
      },
      "source": [
        "clf = MultinomialNB()\n",
        "clf.fit(x_train, y_train)"
      ],
      "execution_count": null,
      "outputs": [
        {
          "output_type": "execute_result",
          "data": {
            "text/plain": [
              "MultinomialNB(alpha=1.0, class_prior=None, fit_prior=True)"
            ]
          },
          "metadata": {
            "tags": []
          },
          "execution_count": 26
        }
      ]
    },
    {
      "cell_type": "code",
      "metadata": {
        "id": "6SGxUYXPS7uW",
        "colab_type": "code",
        "colab": {}
      },
      "source": [
        "preds = clf.predict(x_test)"
      ],
      "execution_count": null,
      "outputs": []
    },
    {
      "cell_type": "code",
      "metadata": {
        "id": "GSUed1A5TBPz",
        "colab_type": "code",
        "colab": {
          "base_uri": "https://localhost:8080/",
          "height": 50
        },
        "outputId": "0e7e1a11-d220-4c7a-e4e1-21fddf0a4fde"
      },
      "source": [
        "from sklearn.metrics import confusion_matrix\n",
        "confusion_matrix(y_test, preds)"
      ],
      "execution_count": null,
      "outputs": [
        {
          "output_type": "execute_result",
          "data": {
            "text/plain": [
              "array([[236,  17],\n",
              "       [ 27, 220]])"
            ]
          },
          "metadata": {
            "tags": []
          },
          "execution_count": 28
        }
      ]
    },
    {
      "cell_type": "code",
      "metadata": {
        "id": "2i2cFh-ETLvp",
        "colab_type": "code",
        "colab": {
          "base_uri": "https://localhost:8080/",
          "height": 34
        },
        "outputId": "08e3dff6-10a7-428d-c7de-b95919c365e1"
      },
      "source": [
        "from sklearn.metrics import accuracy_score\n",
        "accuracy_score(y_test, preds)"
      ],
      "execution_count": null,
      "outputs": [
        {
          "output_type": "execute_result",
          "data": {
            "text/plain": [
              "0.912"
            ]
          },
          "metadata": {
            "tags": []
          },
          "execution_count": 29
        }
      ]
    }
  ]
}