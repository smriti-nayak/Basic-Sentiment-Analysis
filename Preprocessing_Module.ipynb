{
  "nbformat": 4,
  "nbformat_minor": 0,
  "metadata": {
    "colab": {
      "name": "Preprocessing Module.ipynb",
      "provenance": [],
      "collapsed_sections": [],
      "authorship_tag": "ABX9TyPPL2Hs0pBiRXXi+eVl/8Po",
      "include_colab_link": true
    },
    "kernelspec": {
      "name": "python3",
      "display_name": "Python 3"
    }
  },
  "cells": [
    {
      "cell_type": "markdown",
      "metadata": {
        "id": "view-in-github",
        "colab_type": "text"
      },
      "source": [
        "<a href=\"https://colab.research.google.com/github/smriti-nayak/Basic-Sentiment-Analysis/blob/master/Preprocessing_Module.ipynb\" target=\"_parent\"><img src=\"https://colab.research.google.com/assets/colab-badge.svg\" alt=\"Open In Colab\"/></a>"
      ]
    },
    {
      "cell_type": "markdown",
      "metadata": {
        "id": "XzDEF6NKaWLO",
        "colab_type": "text"
      },
      "source": [
        "# DESIGNING A PREPROCESSING MODULE\n",
        "\n",
        "\n",
        "> Write a program to enter a string from the user and perform the following tasks:-\n",
        "\n",
        "\n",
        "*   Write a python function named “Lemmatize” which returns a string after lemmatizing the string.\n",
        "*   Write a python function named “Stemmed” which returns a string after stemming the string. (Use any stemmer of your preference)\n",
        "*   Print all the words along with their lemmatized and stemmed forms, using the above functions\n",
        "*   Save these results in a CSV file having 3 columns:\n",
        "Original Word, Lemmatized form, Stemmed form"
      ]
    },
    {
      "cell_type": "code",
      "metadata": {
        "id": "74mJbD0WZuwz",
        "colab_type": "code",
        "colab": {
          "base_uri": "https://localhost:8080/",
          "height": 101
        },
        "outputId": "4691625a-ca81-41c6-867d-fb578e776c8f"
      },
      "source": [
        "import nltk\n",
        "nltk.download('punkt')\n",
        "nltk.download('wordnet')"
      ],
      "execution_count": null,
      "outputs": [
        {
          "output_type": "stream",
          "text": [
            "[nltk_data] Downloading package punkt to /root/nltk_data...\n",
            "[nltk_data]   Package punkt is already up-to-date!\n",
            "[nltk_data] Downloading package wordnet to /root/nltk_data...\n",
            "[nltk_data]   Package wordnet is already up-to-date!\n"
          ],
          "name": "stdout"
        },
        {
          "output_type": "execute_result",
          "data": {
            "text/plain": [
              "True"
            ]
          },
          "metadata": {
            "tags": []
          },
          "execution_count": 31
        }
      ]
    },
    {
      "cell_type": "code",
      "metadata": {
        "id": "CfrBCxwWaCEp",
        "colab_type": "code",
        "colab": {}
      },
      "source": [
        "# Lemmatization of string\n",
        "\n",
        "from nltk.stem import WordNetLemmatizer\n",
        "\n",
        "def Lemmatize(word):\n",
        "  lemmatizer = WordNetLemmatizer()\n",
        "  return lemmatizer.lemmatize(word)"
      ],
      "execution_count": null,
      "outputs": []
    },
    {
      "cell_type": "code",
      "metadata": {
        "id": "oXoDMYNDa5Xq",
        "colab_type": "code",
        "colab": {}
      },
      "source": [
        "# Stemming of string\n",
        "\n",
        "from nltk.stem import PorterStemmer\n",
        "\n",
        "def Stemmed(word):\n",
        "  stemmer = PorterStemmer()\n",
        "  return stemmer.stem(word)"
      ],
      "execution_count": null,
      "outputs": []
    },
    {
      "cell_type": "code",
      "metadata": {
        "id": "Mylc1sJAbIyF",
        "colab_type": "code",
        "colab": {
          "base_uri": "https://localhost:8080/",
          "height": 286
        },
        "outputId": "c086676a-c9f0-4b72-f85e-ec67dacdb8f6"
      },
      "source": [
        "\n",
        "user = []\n",
        "lem = []\n",
        "stem = []\n",
        "user_input = input(print(\"Enter a string: \"))\n",
        "while (user_input):\n",
        "  user.append(user_input)\n",
        "  lem.append(Lemmatize(user_input))\n",
        "  stem.append(Stemmed(user_input))\n",
        "  user_input = input(print(\"Enter a string: \"))\n",
        "\n"
      ],
      "execution_count": null,
      "outputs": [
        {
          "output_type": "stream",
          "text": [
            "Enter a string: \n",
            "Beautiful\n",
            "Enter a string: \n",
            "Sunset\n",
            "Enter a string: \n",
            "Glorify\n",
            "Enter a string: \n",
            "Lazy\n",
            "Enter a string: \n",
            "Eating\n",
            "Enter a string: \n",
            "Corpus\n",
            "Enter a string: \n",
            "Corpora\n",
            "Enter a string: \n",
            "\n"
          ],
          "name": "stdout"
        }
      ]
    },
    {
      "cell_type": "code",
      "metadata": {
        "id": "eq74m933mzco",
        "colab_type": "code",
        "colab": {}
      },
      "source": [
        "import pandas as pd\n",
        "\n",
        "dict = {'Original Word': user, 'Lemmatized Form': lem, 'Stemmed Form': stem}\n",
        "\n",
        "df = pd.DataFrame(dict)\n",
        "df.to_csv('Words.csv')"
      ],
      "execution_count": null,
      "outputs": []
    }
  ]
}